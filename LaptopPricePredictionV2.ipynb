{
 "cells": [
  {
   "cell_type": "code",
   "execution_count": 1,
   "id": "130f360e",
   "metadata": {
    "execution": {
     "iopub.execute_input": "2024-10-17T13:44:03.853805Z",
     "iopub.status.busy": "2024-10-17T13:44:03.852915Z",
     "iopub.status.idle": "2024-10-17T13:44:04.799268Z",
     "shell.execute_reply": "2024-10-17T13:44:04.798139Z"
    },
    "papermill": {
     "duration": 0.959161,
     "end_time": "2024-10-17T13:44:04.802022",
     "exception": false,
     "start_time": "2024-10-17T13:44:03.842861",
     "status": "completed"
    },
    "tags": []
   },
   "outputs": [],
   "source": [
    "import pandas as pd"
   ]
  },
  {
   "cell_type": "code",
   "execution_count": 2,
   "id": "8c65c3d5",
   "metadata": {
    "execution": {
     "iopub.execute_input": "2024-10-17T13:44:04.821345Z",
     "iopub.status.busy": "2024-10-17T13:44:04.820817Z",
     "iopub.status.idle": "2024-10-17T13:44:04.856676Z",
     "shell.execute_reply": "2024-10-17T13:44:04.855554Z"
    },
    "papermill": {
     "duration": 0.048643,
     "end_time": "2024-10-17T13:44:04.859480",
     "exception": false,
     "start_time": "2024-10-17T13:44:04.810837",
     "status": "completed"
    },
    "tags": []
   },
   "outputs": [],
   "source": [
    "df_train = pd.read_csv('/kaggle/input/laptop-price-prediction/laptops_train.csv')\n",
    "df_test = pd.read_csv('/kaggle/input/laptop-price-prediction/laptops_test.csv')"
   ]
  },
  {
   "cell_type": "code",
   "execution_count": 3,
   "id": "001b4b32",
   "metadata": {
    "execution": {
     "iopub.execute_input": "2024-10-17T13:44:04.877871Z",
     "iopub.status.busy": "2024-10-17T13:44:04.877443Z",
     "iopub.status.idle": "2024-10-17T13:44:04.883524Z",
     "shell.execute_reply": "2024-10-17T13:44:04.882379Z"
    },
    "papermill": {
     "duration": 0.018122,
     "end_time": "2024-10-17T13:44:04.885949",
     "exception": false,
     "start_time": "2024-10-17T13:44:04.867827",
     "status": "completed"
    },
    "tags": []
   },
   "outputs": [
    {
     "name": "stdout",
     "output_type": "stream",
     "text": [
      "(977, 13)\n",
      "(325, 13)\n"
     ]
    }
   ],
   "source": [
    "print(df_train.shape)\n",
    "print(df_test.shape)"
   ]
  },
  {
   "cell_type": "code",
   "execution_count": 4,
   "id": "a61a81c9",
   "metadata": {
    "execution": {
     "iopub.execute_input": "2024-10-17T13:44:04.904329Z",
     "iopub.status.busy": "2024-10-17T13:44:04.903949Z",
     "iopub.status.idle": "2024-10-17T13:44:04.937524Z",
     "shell.execute_reply": "2024-10-17T13:44:04.936287Z"
    },
    "papermill": {
     "duration": 0.045999,
     "end_time": "2024-10-17T13:44:04.940585",
     "exception": false,
     "start_time": "2024-10-17T13:44:04.894586",
     "status": "completed"
    },
    "tags": []
   },
   "outputs": [
    {
     "data": {
      "text/html": [
       "<div>\n",
       "<style scoped>\n",
       "    .dataframe tbody tr th:only-of-type {\n",
       "        vertical-align: middle;\n",
       "    }\n",
       "\n",
       "    .dataframe tbody tr th {\n",
       "        vertical-align: top;\n",
       "    }\n",
       "\n",
       "    .dataframe thead th {\n",
       "        text-align: right;\n",
       "    }\n",
       "</style>\n",
       "<table border=\"1\" class=\"dataframe\">\n",
       "  <thead>\n",
       "    <tr style=\"text-align: right;\">\n",
       "      <th></th>\n",
       "      <th>Manufacturer</th>\n",
       "      <th>Model Name</th>\n",
       "      <th>Category</th>\n",
       "      <th>Screen Size</th>\n",
       "      <th>Screen</th>\n",
       "      <th>CPU</th>\n",
       "      <th>RAM</th>\n",
       "      <th>Storage</th>\n",
       "      <th>GPU</th>\n",
       "      <th>Operating System</th>\n",
       "      <th>Operating System Version</th>\n",
       "      <th>Weight</th>\n",
       "      <th>Price</th>\n",
       "    </tr>\n",
       "  </thead>\n",
       "  <tbody>\n",
       "    <tr>\n",
       "      <th>0</th>\n",
       "      <td>Apple</td>\n",
       "      <td>MacBook Pro</td>\n",
       "      <td>Ultrabook</td>\n",
       "      <td>13.3\"</td>\n",
       "      <td>IPS Panel Retina Display 2560x1600</td>\n",
       "      <td>Intel Core i5 2.3GHz</td>\n",
       "      <td>8GB</td>\n",
       "      <td>128GB SSD</td>\n",
       "      <td>Intel Iris Plus Graphics 640</td>\n",
       "      <td>macOS</td>\n",
       "      <td>NaN</td>\n",
       "      <td>1.37kg</td>\n",
       "      <td>11912523.48</td>\n",
       "    </tr>\n",
       "    <tr>\n",
       "      <th>1</th>\n",
       "      <td>Apple</td>\n",
       "      <td>Macbook Air</td>\n",
       "      <td>Ultrabook</td>\n",
       "      <td>13.3\"</td>\n",
       "      <td>1440x900</td>\n",
       "      <td>Intel Core i5 1.8GHz</td>\n",
       "      <td>8GB</td>\n",
       "      <td>128GB Flash Storage</td>\n",
       "      <td>Intel HD Graphics 6000</td>\n",
       "      <td>macOS</td>\n",
       "      <td>NaN</td>\n",
       "      <td>1.34kg</td>\n",
       "      <td>7993374.48</td>\n",
       "    </tr>\n",
       "    <tr>\n",
       "      <th>2</th>\n",
       "      <td>HP</td>\n",
       "      <td>250 G6</td>\n",
       "      <td>Notebook</td>\n",
       "      <td>15.6\"</td>\n",
       "      <td>Full HD 1920x1080</td>\n",
       "      <td>Intel Core i5 7200U 2.5GHz</td>\n",
       "      <td>8GB</td>\n",
       "      <td>256GB SSD</td>\n",
       "      <td>Intel HD Graphics 620</td>\n",
       "      <td>No OS</td>\n",
       "      <td>NaN</td>\n",
       "      <td>1.86kg</td>\n",
       "      <td>5112900.00</td>\n",
       "    </tr>\n",
       "    <tr>\n",
       "      <th>3</th>\n",
       "      <td>Apple</td>\n",
       "      <td>MacBook Pro</td>\n",
       "      <td>Ultrabook</td>\n",
       "      <td>15.4\"</td>\n",
       "      <td>IPS Panel Retina Display 2880x1800</td>\n",
       "      <td>Intel Core i7 2.7GHz</td>\n",
       "      <td>16GB</td>\n",
       "      <td>512GB SSD</td>\n",
       "      <td>AMD Radeon Pro 455</td>\n",
       "      <td>macOS</td>\n",
       "      <td>NaN</td>\n",
       "      <td>1.83kg</td>\n",
       "      <td>22563005.40</td>\n",
       "    </tr>\n",
       "    <tr>\n",
       "      <th>4</th>\n",
       "      <td>Apple</td>\n",
       "      <td>MacBook Pro</td>\n",
       "      <td>Ultrabook</td>\n",
       "      <td>13.3\"</td>\n",
       "      <td>IPS Panel Retina Display 2560x1600</td>\n",
       "      <td>Intel Core i5 3.1GHz</td>\n",
       "      <td>8GB</td>\n",
       "      <td>256GB SSD</td>\n",
       "      <td>Intel Iris Plus Graphics 650</td>\n",
       "      <td>macOS</td>\n",
       "      <td>NaN</td>\n",
       "      <td>1.37kg</td>\n",
       "      <td>16037611.20</td>\n",
       "    </tr>\n",
       "  </tbody>\n",
       "</table>\n",
       "</div>"
      ],
      "text/plain": [
       "  Manufacturer   Model Name   Category Screen Size  \\\n",
       "0        Apple  MacBook Pro  Ultrabook       13.3\"   \n",
       "1        Apple  Macbook Air  Ultrabook       13.3\"   \n",
       "2           HP       250 G6   Notebook       15.6\"   \n",
       "3        Apple  MacBook Pro  Ultrabook       15.4\"   \n",
       "4        Apple  MacBook Pro  Ultrabook       13.3\"   \n",
       "\n",
       "                               Screen                         CPU   RAM  \\\n",
       "0  IPS Panel Retina Display 2560x1600        Intel Core i5 2.3GHz   8GB   \n",
       "1                            1440x900        Intel Core i5 1.8GHz   8GB   \n",
       "2                   Full HD 1920x1080  Intel Core i5 7200U 2.5GHz   8GB   \n",
       "3  IPS Panel Retina Display 2880x1800        Intel Core i7 2.7GHz  16GB   \n",
       "4  IPS Panel Retina Display 2560x1600        Intel Core i5 3.1GHz   8GB   \n",
       "\n",
       "               Storage                           GPU Operating System  \\\n",
       "0            128GB SSD  Intel Iris Plus Graphics 640            macOS   \n",
       "1  128GB Flash Storage        Intel HD Graphics 6000            macOS   \n",
       "2            256GB SSD         Intel HD Graphics 620            No OS   \n",
       "3            512GB SSD            AMD Radeon Pro 455            macOS   \n",
       "4            256GB SSD  Intel Iris Plus Graphics 650            macOS   \n",
       "\n",
       "  Operating System Version  Weight        Price  \n",
       "0                      NaN  1.37kg  11912523.48  \n",
       "1                      NaN  1.34kg   7993374.48  \n",
       "2                      NaN  1.86kg   5112900.00  \n",
       "3                      NaN  1.83kg  22563005.40  \n",
       "4                      NaN  1.37kg  16037611.20  "
      ]
     },
     "execution_count": 4,
     "metadata": {},
     "output_type": "execute_result"
    }
   ],
   "source": [
    "df_train.head()"
   ]
  },
  {
   "cell_type": "code",
   "execution_count": 5,
   "id": "2856ec48",
   "metadata": {
    "execution": {
     "iopub.execute_input": "2024-10-17T13:44:04.960630Z",
     "iopub.status.busy": "2024-10-17T13:44:04.960257Z",
     "iopub.status.idle": "2024-10-17T13:44:04.979171Z",
     "shell.execute_reply": "2024-10-17T13:44:04.977924Z"
    },
    "papermill": {
     "duration": 0.03203,
     "end_time": "2024-10-17T13:44:04.981830",
     "exception": false,
     "start_time": "2024-10-17T13:44:04.949800",
     "status": "completed"
    },
    "tags": []
   },
   "outputs": [
    {
     "data": {
      "text/html": [
       "<div>\n",
       "<style scoped>\n",
       "    .dataframe tbody tr th:only-of-type {\n",
       "        vertical-align: middle;\n",
       "    }\n",
       "\n",
       "    .dataframe tbody tr th {\n",
       "        vertical-align: top;\n",
       "    }\n",
       "\n",
       "    .dataframe thead th {\n",
       "        text-align: right;\n",
       "    }\n",
       "</style>\n",
       "<table border=\"1\" class=\"dataframe\">\n",
       "  <thead>\n",
       "    <tr style=\"text-align: right;\">\n",
       "      <th></th>\n",
       "      <th>Manufacturer</th>\n",
       "      <th>Model Name</th>\n",
       "      <th>Category</th>\n",
       "      <th>Screen Size</th>\n",
       "      <th>Screen</th>\n",
       "      <th>CPU</th>\n",
       "      <th>RAM</th>\n",
       "      <th>Storage</th>\n",
       "      <th>GPU</th>\n",
       "      <th>Operating System</th>\n",
       "      <th>Operating System Version</th>\n",
       "      <th>Weight</th>\n",
       "      <th>Price</th>\n",
       "    </tr>\n",
       "  </thead>\n",
       "  <tbody>\n",
       "    <tr>\n",
       "      <th>0</th>\n",
       "      <td>HP</td>\n",
       "      <td>15-bs053od (i7-7500U/6GB/1TB/W10)</td>\n",
       "      <td>Notebook</td>\n",
       "      <td>15.6\"</td>\n",
       "      <td>1366x768</td>\n",
       "      <td>Intel Core i7 7500U 2.7GHz</td>\n",
       "      <td>6GB</td>\n",
       "      <td>1TB HDD</td>\n",
       "      <td>Intel HD Graphics 620</td>\n",
       "      <td>Windows</td>\n",
       "      <td>10</td>\n",
       "      <td>2.04kg</td>\n",
       "      <td>5148468.0</td>\n",
       "    </tr>\n",
       "    <tr>\n",
       "      <th>1</th>\n",
       "      <td>Asus</td>\n",
       "      <td>Rog GL753VE-DS74</td>\n",
       "      <td>Gaming</td>\n",
       "      <td>17.3\"</td>\n",
       "      <td>Full HD 1920x1080</td>\n",
       "      <td>Intel Core i7 7700HQ 2.8GHz</td>\n",
       "      <td>16GB</td>\n",
       "      <td>256GB SSD +  1TB HDD</td>\n",
       "      <td>Nvidia GeForce GTX 1050 Ti</td>\n",
       "      <td>Windows</td>\n",
       "      <td>10</td>\n",
       "      <td>2.99kg</td>\n",
       "      <td>15552108.0</td>\n",
       "    </tr>\n",
       "    <tr>\n",
       "      <th>2</th>\n",
       "      <td>Dell</td>\n",
       "      <td>Inspiron 7579</td>\n",
       "      <td>2 in 1 Convertible</td>\n",
       "      <td>15.6\"</td>\n",
       "      <td>IPS Panel Full HD / Touchscreen 1920x1080</td>\n",
       "      <td>Intel Core i7 7500U 2.7GHz</td>\n",
       "      <td>12GB</td>\n",
       "      <td>512GB SSD</td>\n",
       "      <td>Intel HD Graphics 620</td>\n",
       "      <td>Windows</td>\n",
       "      <td>10</td>\n",
       "      <td>2.19kg</td>\n",
       "      <td>11550708.0</td>\n",
       "    </tr>\n",
       "    <tr>\n",
       "      <th>3</th>\n",
       "      <td>Toshiba</td>\n",
       "      <td>Portege Z30-C-1CV</td>\n",
       "      <td>Notebook</td>\n",
       "      <td>13.3\"</td>\n",
       "      <td>Full HD 1920x1080</td>\n",
       "      <td>Intel Core i5 6200U 2.3GHz</td>\n",
       "      <td>4GB</td>\n",
       "      <td>128GB SSD</td>\n",
       "      <td>Intel HD Graphics 520</td>\n",
       "      <td>Windows</td>\n",
       "      <td>7</td>\n",
       "      <td>1.2kg</td>\n",
       "      <td>10625940.0</td>\n",
       "    </tr>\n",
       "    <tr>\n",
       "      <th>4</th>\n",
       "      <td>Lenovo</td>\n",
       "      <td>IdeaPad 320-15ABR</td>\n",
       "      <td>Notebook</td>\n",
       "      <td>15.6\"</td>\n",
       "      <td>Full HD 1920x1080</td>\n",
       "      <td>AMD A12-Series 9720P 3.6GHz</td>\n",
       "      <td>6GB</td>\n",
       "      <td>256GB SSD</td>\n",
       "      <td>AMD Radeon 530</td>\n",
       "      <td>Windows</td>\n",
       "      <td>10</td>\n",
       "      <td>2.2kg</td>\n",
       "      <td>4881708.0</td>\n",
       "    </tr>\n",
       "  </tbody>\n",
       "</table>\n",
       "</div>"
      ],
      "text/plain": [
       "  Manufacturer                         Model Name            Category  \\\n",
       "0           HP  15-bs053od (i7-7500U/6GB/1TB/W10)            Notebook   \n",
       "1         Asus                   Rog GL753VE-DS74              Gaming   \n",
       "2         Dell                      Inspiron 7579  2 in 1 Convertible   \n",
       "3      Toshiba                  Portege Z30-C-1CV            Notebook   \n",
       "4       Lenovo                  IdeaPad 320-15ABR            Notebook   \n",
       "\n",
       "  Screen Size                                     Screen  \\\n",
       "0       15.6\"                                   1366x768   \n",
       "1       17.3\"                          Full HD 1920x1080   \n",
       "2       15.6\"  IPS Panel Full HD / Touchscreen 1920x1080   \n",
       "3       13.3\"                          Full HD 1920x1080   \n",
       "4       15.6\"                          Full HD 1920x1080   \n",
       "\n",
       "                           CPU   RAM               Storage  \\\n",
       "0   Intel Core i7 7500U 2.7GHz   6GB               1TB HDD   \n",
       "1  Intel Core i7 7700HQ 2.8GHz  16GB  256GB SSD +  1TB HDD   \n",
       "2   Intel Core i7 7500U 2.7GHz  12GB             512GB SSD   \n",
       "3   Intel Core i5 6200U 2.3GHz   4GB             128GB SSD   \n",
       "4  AMD A12-Series 9720P 3.6GHz   6GB             256GB SSD   \n",
       "\n",
       "                          GPU Operating System Operating System Version  \\\n",
       "0       Intel HD Graphics 620          Windows                       10   \n",
       "1  Nvidia GeForce GTX 1050 Ti          Windows                       10   \n",
       "2       Intel HD Graphics 620          Windows                       10   \n",
       "3       Intel HD Graphics 520          Windows                        7   \n",
       "4              AMD Radeon 530          Windows                       10   \n",
       "\n",
       "   Weight       Price  \n",
       "0  2.04kg   5148468.0  \n",
       "1  2.99kg  15552108.0  \n",
       "2  2.19kg  11550708.0  \n",
       "3   1.2kg  10625940.0  \n",
       "4   2.2kg   4881708.0  "
      ]
     },
     "execution_count": 5,
     "metadata": {},
     "output_type": "execute_result"
    }
   ],
   "source": [
    "df_test.head()"
   ]
  },
  {
   "cell_type": "code",
   "execution_count": 6,
   "id": "501ca447",
   "metadata": {
    "execution": {
     "iopub.execute_input": "2024-10-17T13:44:05.001884Z",
     "iopub.status.busy": "2024-10-17T13:44:05.001488Z",
     "iopub.status.idle": "2024-10-17T13:44:05.011470Z",
     "shell.execute_reply": "2024-10-17T13:44:05.010445Z"
    },
    "papermill": {
     "duration": 0.022916,
     "end_time": "2024-10-17T13:44:05.013918",
     "exception": false,
     "start_time": "2024-10-17T13:44:04.991002",
     "status": "completed"
    },
    "tags": []
   },
   "outputs": [
    {
     "data": {
      "text/plain": [
       "Manufacturer                  0\n",
       "Model Name                    0\n",
       "Category                      0\n",
       "Screen Size                   0\n",
       "Screen                        0\n",
       "CPU                           0\n",
       "RAM                           0\n",
       " Storage                      0\n",
       "GPU                           0\n",
       "Operating System              0\n",
       "Operating System Version    136\n",
       "Weight                        0\n",
       "Price                         0\n",
       "dtype: int64"
      ]
     },
     "execution_count": 6,
     "metadata": {},
     "output_type": "execute_result"
    }
   ],
   "source": [
    "df_train.isna().sum()"
   ]
  },
  {
   "cell_type": "code",
   "execution_count": 7,
   "id": "3178b0ac",
   "metadata": {
    "execution": {
     "iopub.execute_input": "2024-10-17T13:44:05.034859Z",
     "iopub.status.busy": "2024-10-17T13:44:05.033621Z",
     "iopub.status.idle": "2024-10-17T13:44:05.043055Z",
     "shell.execute_reply": "2024-10-17T13:44:05.041800Z"
    },
    "papermill": {
     "duration": 0.022316,
     "end_time": "2024-10-17T13:44:05.045582",
     "exception": false,
     "start_time": "2024-10-17T13:44:05.023266",
     "status": "completed"
    },
    "tags": []
   },
   "outputs": [
    {
     "data": {
      "text/plain": [
       "Manufacturer                 0\n",
       "Model Name                   0\n",
       "Category                     0\n",
       "Screen Size                  0\n",
       "Screen                       0\n",
       "CPU                          0\n",
       "RAM                          0\n",
       " Storage                     0\n",
       "GPU                          0\n",
       "Operating System             0\n",
       "Operating System Version    34\n",
       "Weight                       0\n",
       "Price                        0\n",
       "dtype: int64"
      ]
     },
     "execution_count": 7,
     "metadata": {},
     "output_type": "execute_result"
    }
   ],
   "source": [
    "df_test.isna().sum()"
   ]
  },
  {
   "cell_type": "code",
   "execution_count": 8,
   "id": "8cd80347",
   "metadata": {
    "execution": {
     "iopub.execute_input": "2024-10-17T13:44:05.067520Z",
     "iopub.status.busy": "2024-10-17T13:44:05.066549Z",
     "iopub.status.idle": "2024-10-17T13:44:05.079833Z",
     "shell.execute_reply": "2024-10-17T13:44:05.078663Z"
    },
    "papermill": {
     "duration": 0.026176,
     "end_time": "2024-10-17T13:44:05.082335",
     "exception": false,
     "start_time": "2024-10-17T13:44:05.056159",
     "status": "completed"
    },
    "tags": []
   },
   "outputs": [],
   "source": [
    "df_train= df_train.drop('Operating System Version',axis=1)\n",
    "df_test = df_test.drop('Operating System Version' , axis=1)"
   ]
  },
  {
   "cell_type": "code",
   "execution_count": 9,
   "id": "9e34efef",
   "metadata": {
    "execution": {
     "iopub.execute_input": "2024-10-17T13:44:05.102150Z",
     "iopub.status.busy": "2024-10-17T13:44:05.101706Z",
     "iopub.status.idle": "2024-10-17T13:44:05.107289Z",
     "shell.execute_reply": "2024-10-17T13:44:05.106159Z"
    },
    "papermill": {
     "duration": 0.018108,
     "end_time": "2024-10-17T13:44:05.109555",
     "exception": false,
     "start_time": "2024-10-17T13:44:05.091447",
     "status": "completed"
    },
    "tags": []
   },
   "outputs": [
    {
     "name": "stdout",
     "output_type": "stream",
     "text": [
      "(977, 12)\n",
      "(325, 12)\n"
     ]
    }
   ],
   "source": [
    "print(df_train.shape)\n",
    "print(df_test.shape)"
   ]
  },
  {
   "cell_type": "code",
   "execution_count": 10,
   "id": "7170033b",
   "metadata": {
    "execution": {
     "iopub.execute_input": "2024-10-17T13:44:05.129306Z",
     "iopub.status.busy": "2024-10-17T13:44:05.128931Z",
     "iopub.status.idle": "2024-10-17T13:44:05.136950Z",
     "shell.execute_reply": "2024-10-17T13:44:05.135882Z"
    },
    "papermill": {
     "duration": 0.020609,
     "end_time": "2024-10-17T13:44:05.139244",
     "exception": false,
     "start_time": "2024-10-17T13:44:05.118635",
     "status": "completed"
    },
    "tags": []
   },
   "outputs": [
    {
     "data": {
      "text/plain": [
       "Manufacturer         object\n",
       "Model Name           object\n",
       "Category             object\n",
       "Screen Size          object\n",
       "Screen               object\n",
       "CPU                  object\n",
       "RAM                  object\n",
       " Storage             object\n",
       "GPU                  object\n",
       "Operating System     object\n",
       "Weight               object\n",
       "Price               float64\n",
       "dtype: object"
      ]
     },
     "execution_count": 10,
     "metadata": {},
     "output_type": "execute_result"
    }
   ],
   "source": [
    "df_train.dtypes"
   ]
  },
  {
   "cell_type": "code",
   "execution_count": 11,
   "id": "92c047d3",
   "metadata": {
    "execution": {
     "iopub.execute_input": "2024-10-17T13:44:05.159621Z",
     "iopub.status.busy": "2024-10-17T13:44:05.159237Z",
     "iopub.status.idle": "2024-10-17T13:44:05.167591Z",
     "shell.execute_reply": "2024-10-17T13:44:05.166563Z"
    },
    "papermill": {
     "duration": 0.02143,
     "end_time": "2024-10-17T13:44:05.170102",
     "exception": false,
     "start_time": "2024-10-17T13:44:05.148672",
     "status": "completed"
    },
    "tags": []
   },
   "outputs": [
    {
     "data": {
      "text/plain": [
       "Manufacturer         object\n",
       "Model Name           object\n",
       "Category             object\n",
       "Screen Size          object\n",
       "Screen               object\n",
       "CPU                  object\n",
       "RAM                  object\n",
       " Storage             object\n",
       "GPU                  object\n",
       "Operating System     object\n",
       "Weight               object\n",
       "Price               float64\n",
       "dtype: object"
      ]
     },
     "execution_count": 11,
     "metadata": {},
     "output_type": "execute_result"
    }
   ],
   "source": [
    "df_test.dtypes"
   ]
  },
  {
   "cell_type": "code",
   "execution_count": 12,
   "id": "c23364b2",
   "metadata": {
    "execution": {
     "iopub.execute_input": "2024-10-17T13:44:05.192238Z",
     "iopub.status.busy": "2024-10-17T13:44:05.191859Z",
     "iopub.status.idle": "2024-10-17T13:44:05.198014Z",
     "shell.execute_reply": "2024-10-17T13:44:05.196873Z"
    },
    "papermill": {
     "duration": 0.020712,
     "end_time": "2024-10-17T13:44:05.200387",
     "exception": false,
     "start_time": "2024-10-17T13:44:05.179675",
     "status": "completed"
    },
    "tags": []
   },
   "outputs": [],
   "source": [
    "def identify_features(df, target):\n",
    "    numerical = []\n",
    "    categorical = []\n",
    "    \n",
    "    for column in df.columns:\n",
    "        if column == target:\n",
    "            continue\n",
    "        elif pd.api.types.is_numeric_dtype(df[column]):\n",
    "            numerical.append(column)\n",
    "        else:\n",
    "            categorical.append(column)\n",
    "    \n",
    "    return numerical, categorical"
   ]
  },
  {
   "cell_type": "code",
   "execution_count": 13,
   "id": "934cf6d3",
   "metadata": {
    "execution": {
     "iopub.execute_input": "2024-10-17T13:44:05.222249Z",
     "iopub.status.busy": "2024-10-17T13:44:05.220977Z",
     "iopub.status.idle": "2024-10-17T13:44:05.230026Z",
     "shell.execute_reply": "2024-10-17T13:44:05.228790Z"
    },
    "papermill": {
     "duration": 0.022772,
     "end_time": "2024-10-17T13:44:05.232665",
     "exception": false,
     "start_time": "2024-10-17T13:44:05.209893",
     "status": "completed"
    },
    "tags": []
   },
   "outputs": [
    {
     "name": "stdout",
     "output_type": "stream",
     "text": [
      "Numerical features (train): ['Price']\n",
      "Categorical features (train): ['Manufacturer', 'Model Name', 'Category', 'Screen Size', 'Screen', 'CPU', 'RAM', ' Storage', 'GPU', 'Operating System', 'Weight']\n",
      "Numerical features (test): ['Price']\n",
      "Categorical features (test): ['Manufacturer', 'Model Name', 'Category', 'Screen Size', 'Screen', 'CPU', 'RAM', ' Storage', 'GPU', 'Operating System', 'Weight']\n"
     ]
    }
   ],
   "source": [
    "numerical_train, categorical_train = identify_features(df_train, target='Exited')\n",
    "numerical_test, categorical_test = identify_features(df_test, target='Exited')\n",
    "\n",
    "# Print the results\n",
    "print(\"Numerical features (train):\", numerical_train)\n",
    "print(\"Categorical features (train):\", categorical_train)\n",
    "print(\"Numerical features (test):\", numerical_test)\n",
    "print(\"Categorical features (test):\", categorical_test)"
   ]
  },
  {
   "cell_type": "markdown",
   "id": "89061668",
   "metadata": {
    "papermill": {
     "duration": 0.0092,
     "end_time": "2024-10-17T13:44:05.251465",
     "exception": false,
     "start_time": "2024-10-17T13:44:05.242265",
     "status": "completed"
    },
    "tags": []
   },
   "source": [
    "**Encoding of categorical feature**"
   ]
  },
  {
   "cell_type": "code",
   "execution_count": 14,
   "id": "fe55633f",
   "metadata": {
    "execution": {
     "iopub.execute_input": "2024-10-17T13:44:05.273770Z",
     "iopub.status.busy": "2024-10-17T13:44:05.273091Z",
     "iopub.status.idle": "2024-10-17T13:44:05.289058Z",
     "shell.execute_reply": "2024-10-17T13:44:05.287613Z"
    },
    "papermill": {
     "duration": 0.029436,
     "end_time": "2024-10-17T13:44:05.291549",
     "exception": false,
     "start_time": "2024-10-17T13:44:05.262113",
     "status": "completed"
    },
    "tags": []
   },
   "outputs": [],
   "source": [
    "# Split the 'CPU' column into two separate columns: 'CPU_Model' and 'CPU_Speed'\n",
    "df_train[['CPU_Model', 'CPU_Speed']] = df_train['CPU'].str.rsplit(' ', n=1, expand=True)\n",
    "df_test[['CPU_Model', 'CPU_Speed']] = df_test['CPU'].str.rsplit(' ', n=1, expand=True)\n",
    "\n",
    "# Split the 'Storage' column into 'Storage_Capacity' and 'Storage_Type'\n",
    "df_train[['Storage_Capacity', 'Storage_Type']] = df_train[' Storage'].str.split(' ', n=1, expand=True)\n",
    "df_test[['Storage_Capacity', 'Storage_Type']] = df_test[' Storage'].str.split(' ', n=1, expand=True)\n"
   ]
  },
  {
   "cell_type": "code",
   "execution_count": 15,
   "id": "c82951e4",
   "metadata": {
    "execution": {
     "iopub.execute_input": "2024-10-17T13:44:05.312661Z",
     "iopub.status.busy": "2024-10-17T13:44:05.312255Z",
     "iopub.status.idle": "2024-10-17T13:44:05.330790Z",
     "shell.execute_reply": "2024-10-17T13:44:05.329727Z"
    },
    "papermill": {
     "duration": 0.031707,
     "end_time": "2024-10-17T13:44:05.333049",
     "exception": false,
     "start_time": "2024-10-17T13:44:05.301342",
     "status": "completed"
    },
    "tags": []
   },
   "outputs": [],
   "source": [
    "#feature \"weight\" and \"screen size\"\n",
    "\n",
    "df_train['Weight'] = df_train['Weight'].str.replace('kg','').astype(float)\n",
    "df_train['Screen Size'] = df_train['Screen Size'].str.replace('\"','').astype(float)\n",
    "df_train['RAM'] = df_train['RAM'].str.replace('GB','').astype(float)\n",
    "df_train['CPU_Speed'] = df_train['CPU_Speed'].str.replace('GHz', '').astype(float)\n",
    "\n",
    "df_test['Weight'] = df_test['Weight'].str.replace('kgs', '').str.replace('kg', '')\n",
    "df_test['Weight'] = df_test['Weight'].str.replace('kg', '', regex=True).astype(float)\n",
    "df_test['Screen Size'] = df_test['Screen Size'].str.replace('\"','').astype(float)\n",
    "df_test['RAM'] = df_test['RAM'].str.replace('GB','').astype(float)\n",
    "df_test['CPU_Speed'] = df_test['CPU_Speed'].str.replace('GHz', '').astype(float)\n"
   ]
  },
  {
   "cell_type": "code",
   "execution_count": 16,
   "id": "20d08ebc",
   "metadata": {
    "execution": {
     "iopub.execute_input": "2024-10-17T13:44:05.354838Z",
     "iopub.status.busy": "2024-10-17T13:44:05.354433Z",
     "iopub.status.idle": "2024-10-17T13:44:05.682279Z",
     "shell.execute_reply": "2024-10-17T13:44:05.681065Z"
    },
    "papermill": {
     "duration": 0.341541,
     "end_time": "2024-10-17T13:44:05.684929",
     "exception": false,
     "start_time": "2024-10-17T13:44:05.343388",
     "status": "completed"
    },
    "tags": []
   },
   "outputs": [],
   "source": [
    "# Convert 'TB' to 'GB' (1 TB = 1024 GB) and remove 'GB' suffix\n",
    "df_train['Storage_Capacity'] = df_train['Storage_Capacity'].str.replace('TB', '*1024').str.replace('GB', '')\n",
    "df_test['Storage_Capacity'] = df_test['Storage_Capacity'].str.replace('TB', '*1024').str.replace('GB', '')\n",
    "\n",
    "# Evaluate the expressions to compute the final storage capacity in GB\n",
    "df_train['Storage_Capacity'] = df_train['Storage_Capacity'].map(pd.eval).astype(int)\n",
    "df_test['Storage_Capacity'] = df_test['Storage_Capacity'].map(pd.eval).astype(int)"
   ]
  },
  {
   "cell_type": "code",
   "execution_count": 17,
   "id": "80dde4e4",
   "metadata": {
    "execution": {
     "iopub.execute_input": "2024-10-17T13:44:05.706579Z",
     "iopub.status.busy": "2024-10-17T13:44:05.706175Z",
     "iopub.status.idle": "2024-10-17T13:44:05.718914Z",
     "shell.execute_reply": "2024-10-17T13:44:05.717618Z"
    },
    "papermill": {
     "duration": 0.026226,
     "end_time": "2024-10-17T13:44:05.721263",
     "exception": false,
     "start_time": "2024-10-17T13:44:05.695037",
     "status": "completed"
    },
    "tags": []
   },
   "outputs": [
    {
     "name": "stdout",
     "output_type": "stream",
     "text": [
      "CPU: 106\n",
      " Storage: 36\n",
      "Model Name: 488\n",
      "Operating System: 7\n",
      "Category: 6\n",
      "Manufacturer: 19\n",
      "GPU: 98\n",
      "Storage_Type: 11\n",
      "Screen: 38\n"
     ]
    }
   ],
   "source": [
    "# List of features to check unique values\n",
    "features_to_check = [\n",
    "    'CPU',\n",
    "    ' Storage',\n",
    "    'Model Name',\n",
    "    'Operating System',\n",
    "    'Category',\n",
    "    'Manufacturer',\n",
    "    'GPU',\n",
    "    'Storage_Type',\n",
    "    'Screen'\n",
    "]\n",
    "\n",
    "# Loop through each feature and print the number of unique values\n",
    "for feature in features_to_check:\n",
    "    print(f\"{feature}: {df_train[feature].nunique()}\")\n"
   ]
  },
  {
   "cell_type": "code",
   "execution_count": 18,
   "id": "c28b7a7c",
   "metadata": {
    "execution": {
     "iopub.execute_input": "2024-10-17T13:44:05.743095Z",
     "iopub.status.busy": "2024-10-17T13:44:05.742694Z",
     "iopub.status.idle": "2024-10-17T13:44:05.780681Z",
     "shell.execute_reply": "2024-10-17T13:44:05.779404Z"
    },
    "papermill": {
     "duration": 0.052156,
     "end_time": "2024-10-17T13:44:05.783518",
     "exception": false,
     "start_time": "2024-10-17T13:44:05.731362",
     "status": "completed"
    },
    "tags": []
   },
   "outputs": [
    {
     "name": "stderr",
     "output_type": "stream",
     "text": [
      "/tmp/ipykernel_18/3245866325.py:26: FutureWarning: A value is trying to be set on a copy of a DataFrame or Series through chained assignment using an inplace method.\n",
      "The behavior will change in pandas 3.0. This inplace method will never work because the intermediate object on which we are setting values always behaves as a copy.\n",
      "\n",
      "For example, when doing 'df[col].method(value, inplace=True)', try using 'df.method({col: value}, inplace=True)' or df[col] = df[col].method(value) instead, to perform the operation inplace on the original object.\n",
      "\n",
      "\n",
      "  df_test[encoded_feature_name].fillna(df_train['Price'].mean(), inplace=True)\n",
      "/tmp/ipykernel_18/3245866325.py:26: FutureWarning: A value is trying to be set on a copy of a DataFrame or Series through chained assignment using an inplace method.\n",
      "The behavior will change in pandas 3.0. This inplace method will never work because the intermediate object on which we are setting values always behaves as a copy.\n",
      "\n",
      "For example, when doing 'df[col].method(value, inplace=True)', try using 'df.method({col: value}, inplace=True)' or df[col] = df[col].method(value) instead, to perform the operation inplace on the original object.\n",
      "\n",
      "\n",
      "  df_test[encoded_feature_name].fillna(df_train['Price'].mean(), inplace=True)\n",
      "/tmp/ipykernel_18/3245866325.py:26: FutureWarning: A value is trying to be set on a copy of a DataFrame or Series through chained assignment using an inplace method.\n",
      "The behavior will change in pandas 3.0. This inplace method will never work because the intermediate object on which we are setting values always behaves as a copy.\n",
      "\n",
      "For example, when doing 'df[col].method(value, inplace=True)', try using 'df.method({col: value}, inplace=True)' or df[col] = df[col].method(value) instead, to perform the operation inplace on the original object.\n",
      "\n",
      "\n",
      "  df_test[encoded_feature_name].fillna(df_train['Price'].mean(), inplace=True)\n",
      "/tmp/ipykernel_18/3245866325.py:26: FutureWarning: A value is trying to be set on a copy of a DataFrame or Series through chained assignment using an inplace method.\n",
      "The behavior will change in pandas 3.0. This inplace method will never work because the intermediate object on which we are setting values always behaves as a copy.\n",
      "\n",
      "For example, when doing 'df[col].method(value, inplace=True)', try using 'df.method({col: value}, inplace=True)' or df[col] = df[col].method(value) instead, to perform the operation inplace on the original object.\n",
      "\n",
      "\n",
      "  df_test[encoded_feature_name].fillna(df_train['Price'].mean(), inplace=True)\n",
      "/tmp/ipykernel_18/3245866325.py:26: FutureWarning: A value is trying to be set on a copy of a DataFrame or Series through chained assignment using an inplace method.\n",
      "The behavior will change in pandas 3.0. This inplace method will never work because the intermediate object on which we are setting values always behaves as a copy.\n",
      "\n",
      "For example, when doing 'df[col].method(value, inplace=True)', try using 'df.method({col: value}, inplace=True)' or df[col] = df[col].method(value) instead, to perform the operation inplace on the original object.\n",
      "\n",
      "\n",
      "  df_test[encoded_feature_name].fillna(df_train['Price'].mean(), inplace=True)\n",
      "/tmp/ipykernel_18/3245866325.py:26: FutureWarning: A value is trying to be set on a copy of a DataFrame or Series through chained assignment using an inplace method.\n",
      "The behavior will change in pandas 3.0. This inplace method will never work because the intermediate object on which we are setting values always behaves as a copy.\n",
      "\n",
      "For example, when doing 'df[col].method(value, inplace=True)', try using 'df.method({col: value}, inplace=True)' or df[col] = df[col].method(value) instead, to perform the operation inplace on the original object.\n",
      "\n",
      "\n",
      "  df_test[encoded_feature_name].fillna(df_train['Price'].mean(), inplace=True)\n",
      "/tmp/ipykernel_18/3245866325.py:26: FutureWarning: A value is trying to be set on a copy of a DataFrame or Series through chained assignment using an inplace method.\n",
      "The behavior will change in pandas 3.0. This inplace method will never work because the intermediate object on which we are setting values always behaves as a copy.\n",
      "\n",
      "For example, when doing 'df[col].method(value, inplace=True)', try using 'df.method({col: value}, inplace=True)' or df[col] = df[col].method(value) instead, to perform the operation inplace on the original object.\n",
      "\n",
      "\n",
      "  df_test[encoded_feature_name].fillna(df_train['Price'].mean(), inplace=True)\n",
      "/tmp/ipykernel_18/3245866325.py:26: FutureWarning: A value is trying to be set on a copy of a DataFrame or Series through chained assignment using an inplace method.\n",
      "The behavior will change in pandas 3.0. This inplace method will never work because the intermediate object on which we are setting values always behaves as a copy.\n",
      "\n",
      "For example, when doing 'df[col].method(value, inplace=True)', try using 'df.method({col: value}, inplace=True)' or df[col] = df[col].method(value) instead, to perform the operation inplace on the original object.\n",
      "\n",
      "\n",
      "  df_test[encoded_feature_name].fillna(df_train['Price'].mean(), inplace=True)\n"
     ]
    }
   ],
   "source": [
    "# List of features to be target encoded\n",
    "features_to_encode = [\n",
    "    'Model Name',\n",
    "    'Category',\n",
    "    'Manufacturer',\n",
    "    'Operating System',\n",
    "    'Storage_Type',\n",
    "    'GPU',\n",
    "    'CPU_Model',\n",
    "    'Screen'\n",
    "]\n",
    "\n",
    "for feature in features_to_encode:\n",
    "    encoded_feature_name = f'{feature}_Encoded'\n",
    "    \n",
    "    # Create the target encoding based on training data\n",
    "    mapping = df_train.groupby(feature)['Price'].mean()\n",
    "\n",
    "    # Apply the mapping to the training data\n",
    "    df_train[encoded_feature_name] = df_train[feature].map(mapping)\n",
    "    \n",
    "    # Apply the mapping to the test data\n",
    "    df_test[encoded_feature_name] = df_test[feature].map(mapping)\n",
    "    \n",
    "    # Fill NaN values in the test set where categories were not seen in the training set\n",
    "    df_test[encoded_feature_name].fillna(df_train['Price'].mean(), inplace=True)\n",
    "\n",
    "# Optional: Drop original categorical columns from df_train and df_test\n",
    "df_train = df_train.drop(columns=features_to_encode)\n",
    "df_test = df_test.drop(columns=features_to_encode)\n"
   ]
  },
  {
   "cell_type": "code",
   "execution_count": 19,
   "id": "b8da3f1b",
   "metadata": {
    "execution": {
     "iopub.execute_input": "2024-10-17T13:44:05.806766Z",
     "iopub.status.busy": "2024-10-17T13:44:05.806327Z",
     "iopub.status.idle": "2024-10-17T13:44:05.815454Z",
     "shell.execute_reply": "2024-10-17T13:44:05.814092Z"
    },
    "papermill": {
     "duration": 0.023841,
     "end_time": "2024-10-17T13:44:05.818167",
     "exception": false,
     "start_time": "2024-10-17T13:44:05.794326",
     "status": "completed"
    },
    "tags": []
   },
   "outputs": [],
   "source": [
    "df_train= df_train.drop(columns=[\"CPU\",\" Storage\"])\n",
    "df_test= df_test.drop(columns=[\"CPU\",\" Storage\"])"
   ]
  },
  {
   "cell_type": "code",
   "execution_count": 20,
   "id": "91c99465",
   "metadata": {
    "execution": {
     "iopub.execute_input": "2024-10-17T13:44:05.840282Z",
     "iopub.status.busy": "2024-10-17T13:44:05.839889Z",
     "iopub.status.idle": "2024-10-17T13:44:05.862421Z",
     "shell.execute_reply": "2024-10-17T13:44:05.861000Z"
    },
    "papermill": {
     "duration": 0.036488,
     "end_time": "2024-10-17T13:44:05.865037",
     "exception": false,
     "start_time": "2024-10-17T13:44:05.828549",
     "status": "completed"
    },
    "tags": []
   },
   "outputs": [
    {
     "data": {
      "text/html": [
       "<div>\n",
       "<style scoped>\n",
       "    .dataframe tbody tr th:only-of-type {\n",
       "        vertical-align: middle;\n",
       "    }\n",
       "\n",
       "    .dataframe tbody tr th {\n",
       "        vertical-align: top;\n",
       "    }\n",
       "\n",
       "    .dataframe thead th {\n",
       "        text-align: right;\n",
       "    }\n",
       "</style>\n",
       "<table border=\"1\" class=\"dataframe\">\n",
       "  <thead>\n",
       "    <tr style=\"text-align: right;\">\n",
       "      <th></th>\n",
       "      <th>Screen Size</th>\n",
       "      <th>RAM</th>\n",
       "      <th>Weight</th>\n",
       "      <th>Price</th>\n",
       "      <th>CPU_Speed</th>\n",
       "      <th>Storage_Capacity</th>\n",
       "      <th>Model Name_Encoded</th>\n",
       "      <th>Category_Encoded</th>\n",
       "      <th>Manufacturer_Encoded</th>\n",
       "      <th>Operating System_Encoded</th>\n",
       "      <th>Storage_Type_Encoded</th>\n",
       "      <th>GPU_Encoded</th>\n",
       "      <th>CPU_Model_Encoded</th>\n",
       "      <th>Screen_Encoded</th>\n",
       "    </tr>\n",
       "  </thead>\n",
       "  <tbody>\n",
       "    <tr>\n",
       "      <th>0</th>\n",
       "      <td>13.3</td>\n",
       "      <td>8.0</td>\n",
       "      <td>1.37</td>\n",
       "      <td>11912523.48</td>\n",
       "      <td>2.3</td>\n",
       "      <td>128</td>\n",
       "      <td>1.783302e+07</td>\n",
       "      <td>1.386471e+07</td>\n",
       "      <td>1.472263e+07</td>\n",
       "      <td>15557716.80</td>\n",
       "      <td>1.152297e+07</td>\n",
       "      <td>1.617466e+07</td>\n",
       "      <td>1.272718e+07</td>\n",
       "      <td>1.493817e+07</td>\n",
       "    </tr>\n",
       "    <tr>\n",
       "      <th>1</th>\n",
       "      <td>13.3</td>\n",
       "      <td>8.0</td>\n",
       "      <td>1.34</td>\n",
       "      <td>7993374.48</td>\n",
       "      <td>1.8</td>\n",
       "      <td>128</td>\n",
       "      <td>9.148267e+06</td>\n",
       "      <td>1.386471e+07</td>\n",
       "      <td>1.472263e+07</td>\n",
       "      <td>15557716.80</td>\n",
       "      <td>4.510656e+06</td>\n",
       "      <td>9.235765e+06</td>\n",
       "      <td>1.272718e+07</td>\n",
       "      <td>9.235765e+06</td>\n",
       "    </tr>\n",
       "    <tr>\n",
       "      <th>2</th>\n",
       "      <td>15.6</td>\n",
       "      <td>8.0</td>\n",
       "      <td>1.86</td>\n",
       "      <td>5112900.00</td>\n",
       "      <td>2.5</td>\n",
       "      <td>256</td>\n",
       "      <td>4.068910e+06</td>\n",
       "      <td>6.926965e+06</td>\n",
       "      <td>9.088834e+06</td>\n",
       "      <td>5313421.44</td>\n",
       "      <td>1.152297e+07</td>\n",
       "      <td>1.031139e+07</td>\n",
       "      <td>8.117173e+06</td>\n",
       "      <td>9.999432e+06</td>\n",
       "    </tr>\n",
       "    <tr>\n",
       "      <th>3</th>\n",
       "      <td>15.4</td>\n",
       "      <td>16.0</td>\n",
       "      <td>1.83</td>\n",
       "      <td>22563005.40</td>\n",
       "      <td>2.7</td>\n",
       "      <td>512</td>\n",
       "      <td>1.783302e+07</td>\n",
       "      <td>1.386471e+07</td>\n",
       "      <td>1.472263e+07</td>\n",
       "      <td>15557716.80</td>\n",
       "      <td>1.152297e+07</td>\n",
       "      <td>2.256301e+07</td>\n",
       "      <td>2.217529e+07</td>\n",
       "      <td>2.217529e+07</td>\n",
       "    </tr>\n",
       "    <tr>\n",
       "      <th>4</th>\n",
       "      <td>13.3</td>\n",
       "      <td>8.0</td>\n",
       "      <td>1.37</td>\n",
       "      <td>16037611.20</td>\n",
       "      <td>3.1</td>\n",
       "      <td>256</td>\n",
       "      <td>1.783302e+07</td>\n",
       "      <td>1.386471e+07</td>\n",
       "      <td>1.472263e+07</td>\n",
       "      <td>15557716.80</td>\n",
       "      <td>1.152297e+07</td>\n",
       "      <td>1.708865e+07</td>\n",
       "      <td>1.272718e+07</td>\n",
       "      <td>1.493817e+07</td>\n",
       "    </tr>\n",
       "  </tbody>\n",
       "</table>\n",
       "</div>"
      ],
      "text/plain": [
       "   Screen Size   RAM  Weight        Price  CPU_Speed  Storage_Capacity  \\\n",
       "0         13.3   8.0    1.37  11912523.48        2.3               128   \n",
       "1         13.3   8.0    1.34   7993374.48        1.8               128   \n",
       "2         15.6   8.0    1.86   5112900.00        2.5               256   \n",
       "3         15.4  16.0    1.83  22563005.40        2.7               512   \n",
       "4         13.3   8.0    1.37  16037611.20        3.1               256   \n",
       "\n",
       "   Model Name_Encoded  Category_Encoded  Manufacturer_Encoded  \\\n",
       "0        1.783302e+07      1.386471e+07          1.472263e+07   \n",
       "1        9.148267e+06      1.386471e+07          1.472263e+07   \n",
       "2        4.068910e+06      6.926965e+06          9.088834e+06   \n",
       "3        1.783302e+07      1.386471e+07          1.472263e+07   \n",
       "4        1.783302e+07      1.386471e+07          1.472263e+07   \n",
       "\n",
       "   Operating System_Encoded  Storage_Type_Encoded   GPU_Encoded  \\\n",
       "0               15557716.80          1.152297e+07  1.617466e+07   \n",
       "1               15557716.80          4.510656e+06  9.235765e+06   \n",
       "2                5313421.44          1.152297e+07  1.031139e+07   \n",
       "3               15557716.80          1.152297e+07  2.256301e+07   \n",
       "4               15557716.80          1.152297e+07  1.708865e+07   \n",
       "\n",
       "   CPU_Model_Encoded  Screen_Encoded  \n",
       "0       1.272718e+07    1.493817e+07  \n",
       "1       1.272718e+07    9.235765e+06  \n",
       "2       8.117173e+06    9.999432e+06  \n",
       "3       2.217529e+07    2.217529e+07  \n",
       "4       1.272718e+07    1.493817e+07  "
      ]
     },
     "execution_count": 20,
     "metadata": {},
     "output_type": "execute_result"
    }
   ],
   "source": [
    "df_train.head()"
   ]
  },
  {
   "cell_type": "code",
   "execution_count": 21,
   "id": "ad08caa6",
   "metadata": {
    "execution": {
     "iopub.execute_input": "2024-10-17T13:44:05.888328Z",
     "iopub.status.busy": "2024-10-17T13:44:05.887890Z",
     "iopub.status.idle": "2024-10-17T13:44:05.911151Z",
     "shell.execute_reply": "2024-10-17T13:44:05.909918Z"
    },
    "papermill": {
     "duration": 0.038079,
     "end_time": "2024-10-17T13:44:05.914057",
     "exception": false,
     "start_time": "2024-10-17T13:44:05.875978",
     "status": "completed"
    },
    "tags": []
   },
   "outputs": [
    {
     "data": {
      "text/html": [
       "<div>\n",
       "<style scoped>\n",
       "    .dataframe tbody tr th:only-of-type {\n",
       "        vertical-align: middle;\n",
       "    }\n",
       "\n",
       "    .dataframe tbody tr th {\n",
       "        vertical-align: top;\n",
       "    }\n",
       "\n",
       "    .dataframe thead th {\n",
       "        text-align: right;\n",
       "    }\n",
       "</style>\n",
       "<table border=\"1\" class=\"dataframe\">\n",
       "  <thead>\n",
       "    <tr style=\"text-align: right;\">\n",
       "      <th></th>\n",
       "      <th>Screen Size</th>\n",
       "      <th>RAM</th>\n",
       "      <th>Weight</th>\n",
       "      <th>Price</th>\n",
       "      <th>CPU_Speed</th>\n",
       "      <th>Storage_Capacity</th>\n",
       "      <th>Model Name_Encoded</th>\n",
       "      <th>Category_Encoded</th>\n",
       "      <th>Manufacturer_Encoded</th>\n",
       "      <th>Operating System_Encoded</th>\n",
       "      <th>Storage_Type_Encoded</th>\n",
       "      <th>GPU_Encoded</th>\n",
       "      <th>CPU_Model_Encoded</th>\n",
       "      <th>Screen_Encoded</th>\n",
       "    </tr>\n",
       "  </thead>\n",
       "  <tbody>\n",
       "    <tr>\n",
       "      <th>0</th>\n",
       "      <td>15.6</td>\n",
       "      <td>6.0</td>\n",
       "      <td>2.04</td>\n",
       "      <td>5148468.0</td>\n",
       "      <td>2.7</td>\n",
       "      <td>1024</td>\n",
       "      <td>1.001899e+07</td>\n",
       "      <td>6.926965e+06</td>\n",
       "      <td>9.088834e+06</td>\n",
       "      <td>1.059927e+07</td>\n",
       "      <td>5.819877e+06</td>\n",
       "      <td>1.031139e+07</td>\n",
       "      <td>1.212768e+07</td>\n",
       "      <td>4.586527e+06</td>\n",
       "    </tr>\n",
       "    <tr>\n",
       "      <th>1</th>\n",
       "      <td>17.3</td>\n",
       "      <td>16.0</td>\n",
       "      <td>2.99</td>\n",
       "      <td>15552108.0</td>\n",
       "      <td>2.8</td>\n",
       "      <td>256</td>\n",
       "      <td>1.001899e+07</td>\n",
       "      <td>1.555857e+07</td>\n",
       "      <td>9.527371e+06</td>\n",
       "      <td>1.059927e+07</td>\n",
       "      <td>1.446083e+07</td>\n",
       "      <td>1.166965e+07</td>\n",
       "      <td>1.580340e+07</td>\n",
       "      <td>9.999432e+06</td>\n",
       "    </tr>\n",
       "    <tr>\n",
       "      <th>2</th>\n",
       "      <td>15.6</td>\n",
       "      <td>12.0</td>\n",
       "      <td>2.19</td>\n",
       "      <td>11550708.0</td>\n",
       "      <td>2.7</td>\n",
       "      <td>512</td>\n",
       "      <td>1.001899e+07</td>\n",
       "      <td>1.154589e+07</td>\n",
       "      <td>1.106754e+07</td>\n",
       "      <td>1.059927e+07</td>\n",
       "      <td>1.152297e+07</td>\n",
       "      <td>1.031139e+07</td>\n",
       "      <td>1.212768e+07</td>\n",
       "      <td>1.085724e+07</td>\n",
       "    </tr>\n",
       "    <tr>\n",
       "      <th>3</th>\n",
       "      <td>13.3</td>\n",
       "      <td>4.0</td>\n",
       "      <td>1.20</td>\n",
       "      <td>10625940.0</td>\n",
       "      <td>2.3</td>\n",
       "      <td>128</td>\n",
       "      <td>1.001899e+07</td>\n",
       "      <td>6.926965e+06</td>\n",
       "      <td>1.091755e+07</td>\n",
       "      <td>1.059927e+07</td>\n",
       "      <td>1.152297e+07</td>\n",
       "      <td>7.858071e+06</td>\n",
       "      <td>8.986269e+06</td>\n",
       "      <td>9.999432e+06</td>\n",
       "    </tr>\n",
       "    <tr>\n",
       "      <th>4</th>\n",
       "      <td>15.6</td>\n",
       "      <td>6.0</td>\n",
       "      <td>2.20</td>\n",
       "      <td>4881708.0</td>\n",
       "      <td>3.6</td>\n",
       "      <td>256</td>\n",
       "      <td>6.749028e+06</td>\n",
       "      <td>6.926965e+06</td>\n",
       "      <td>9.630775e+06</td>\n",
       "      <td>1.059927e+07</td>\n",
       "      <td>1.152297e+07</td>\n",
       "      <td>7.918624e+06</td>\n",
       "      <td>6.526728e+06</td>\n",
       "      <td>9.999432e+06</td>\n",
       "    </tr>\n",
       "  </tbody>\n",
       "</table>\n",
       "</div>"
      ],
      "text/plain": [
       "   Screen Size   RAM  Weight       Price  CPU_Speed  Storage_Capacity  \\\n",
       "0         15.6   6.0    2.04   5148468.0        2.7              1024   \n",
       "1         17.3  16.0    2.99  15552108.0        2.8               256   \n",
       "2         15.6  12.0    2.19  11550708.0        2.7               512   \n",
       "3         13.3   4.0    1.20  10625940.0        2.3               128   \n",
       "4         15.6   6.0    2.20   4881708.0        3.6               256   \n",
       "\n",
       "   Model Name_Encoded  Category_Encoded  Manufacturer_Encoded  \\\n",
       "0        1.001899e+07      6.926965e+06          9.088834e+06   \n",
       "1        1.001899e+07      1.555857e+07          9.527371e+06   \n",
       "2        1.001899e+07      1.154589e+07          1.106754e+07   \n",
       "3        1.001899e+07      6.926965e+06          1.091755e+07   \n",
       "4        6.749028e+06      6.926965e+06          9.630775e+06   \n",
       "\n",
       "   Operating System_Encoded  Storage_Type_Encoded   GPU_Encoded  \\\n",
       "0              1.059927e+07          5.819877e+06  1.031139e+07   \n",
       "1              1.059927e+07          1.446083e+07  1.166965e+07   \n",
       "2              1.059927e+07          1.152297e+07  1.031139e+07   \n",
       "3              1.059927e+07          1.152297e+07  7.858071e+06   \n",
       "4              1.059927e+07          1.152297e+07  7.918624e+06   \n",
       "\n",
       "   CPU_Model_Encoded  Screen_Encoded  \n",
       "0       1.212768e+07    4.586527e+06  \n",
       "1       1.580340e+07    9.999432e+06  \n",
       "2       1.212768e+07    1.085724e+07  \n",
       "3       8.986269e+06    9.999432e+06  \n",
       "4       6.526728e+06    9.999432e+06  "
      ]
     },
     "execution_count": 21,
     "metadata": {},
     "output_type": "execute_result"
    }
   ],
   "source": [
    "df_test.head()"
   ]
  },
  {
   "cell_type": "code",
   "execution_count": 22,
   "id": "7eb73dbb",
   "metadata": {
    "execution": {
     "iopub.execute_input": "2024-10-17T13:44:05.938634Z",
     "iopub.status.busy": "2024-10-17T13:44:05.938063Z",
     "iopub.status.idle": "2024-10-17T13:44:07.357846Z",
     "shell.execute_reply": "2024-10-17T13:44:07.356743Z"
    },
    "papermill": {
     "duration": 1.435116,
     "end_time": "2024-10-17T13:44:07.360396",
     "exception": false,
     "start_time": "2024-10-17T13:44:05.925280",
     "status": "completed"
    },
    "tags": []
   },
   "outputs": [],
   "source": [
    "from sklearn.preprocessing import MinMaxScaler\n",
    "\n",
    "scaler = MinMaxScaler()\n",
    "df_train_scaled = scaler.fit_transform(df_train)\n",
    "df_test_scaled = scaler.transform(df_test)\n",
    "\n",
    "columns = df_train.columns\n",
    "# Convert the scaled NumPy array back to a DataFrame\n",
    "df_train = pd.DataFrame(df_train_scaled,columns = columns)\n",
    "df_test = pd.DataFrame(df_test_scaled,columns = columns)\n",
    "\n"
   ]
  },
  {
   "cell_type": "code",
   "execution_count": 23,
   "id": "40c804c1",
   "metadata": {
    "execution": {
     "iopub.execute_input": "2024-10-17T13:44:07.384779Z",
     "iopub.status.busy": "2024-10-17T13:44:07.384374Z",
     "iopub.status.idle": "2024-10-17T13:44:07.402878Z",
     "shell.execute_reply": "2024-10-17T13:44:07.401629Z"
    },
    "papermill": {
     "duration": 0.033888,
     "end_time": "2024-10-17T13:44:07.405144",
     "exception": false,
     "start_time": "2024-10-17T13:44:07.371256",
     "status": "completed"
    },
    "tags": []
   },
   "outputs": [
    {
     "data": {
      "text/html": [
       "<div>\n",
       "<style scoped>\n",
       "    .dataframe tbody tr th:only-of-type {\n",
       "        vertical-align: middle;\n",
       "    }\n",
       "\n",
       "    .dataframe tbody tr th {\n",
       "        vertical-align: top;\n",
       "    }\n",
       "\n",
       "    .dataframe thead th {\n",
       "        text-align: right;\n",
       "    }\n",
       "</style>\n",
       "<table border=\"1\" class=\"dataframe\">\n",
       "  <thead>\n",
       "    <tr style=\"text-align: right;\">\n",
       "      <th></th>\n",
       "      <th>Screen Size</th>\n",
       "      <th>RAM</th>\n",
       "      <th>Weight</th>\n",
       "      <th>Price</th>\n",
       "      <th>CPU_Speed</th>\n",
       "      <th>Storage_Capacity</th>\n",
       "      <th>Model Name_Encoded</th>\n",
       "      <th>Category_Encoded</th>\n",
       "      <th>Manufacturer_Encoded</th>\n",
       "      <th>Operating System_Encoded</th>\n",
       "      <th>Storage_Type_Encoded</th>\n",
       "      <th>GPU_Encoded</th>\n",
       "      <th>CPU_Model_Encoded</th>\n",
       "      <th>Screen_Encoded</th>\n",
       "    </tr>\n",
       "  </thead>\n",
       "  <tbody>\n",
       "    <tr>\n",
       "      <th>0</th>\n",
       "      <td>0.385542</td>\n",
       "      <td>0.200000</td>\n",
       "      <td>0.169576</td>\n",
       "      <td>0.194307</td>\n",
       "      <td>0.518519</td>\n",
       "      <td>0.062042</td>\n",
       "      <td>0.432111</td>\n",
       "      <td>0.594284</td>\n",
       "      <td>0.401479</td>\n",
       "      <td>1.000000</td>\n",
       "      <td>0.530789</td>\n",
       "      <td>0.412458</td>\n",
       "      <td>0.262193</td>\n",
       "      <td>0.485379</td>\n",
       "    </tr>\n",
       "    <tr>\n",
       "      <th>1</th>\n",
       "      <td>0.385542</td>\n",
       "      <td>0.200000</td>\n",
       "      <td>0.162095</td>\n",
       "      <td>0.119693</td>\n",
       "      <td>0.333333</td>\n",
       "      <td>0.062042</td>\n",
       "      <td>0.199404</td>\n",
       "      <td>0.594284</td>\n",
       "      <td>0.401479</td>\n",
       "      <td>1.000000</td>\n",
       "      <td>0.000000</td>\n",
       "      <td>0.202941</td>\n",
       "      <td>0.262193</td>\n",
       "      <td>0.265392</td>\n",
       "    </tr>\n",
       "    <tr>\n",
       "      <th>2</th>\n",
       "      <td>0.662651</td>\n",
       "      <td>0.200000</td>\n",
       "      <td>0.291771</td>\n",
       "      <td>0.064854</td>\n",
       "      <td>0.592593</td>\n",
       "      <td>0.124573</td>\n",
       "      <td>0.063304</td>\n",
       "      <td>0.126401</td>\n",
       "      <td>0.222882</td>\n",
       "      <td>0.194705</td>\n",
       "      <td>0.530789</td>\n",
       "      <td>0.235419</td>\n",
       "      <td>0.151886</td>\n",
       "      <td>0.294853</td>\n",
       "    </tr>\n",
       "    <tr>\n",
       "      <th>3</th>\n",
       "      <td>0.638554</td>\n",
       "      <td>0.466667</td>\n",
       "      <td>0.284289</td>\n",
       "      <td>0.397073</td>\n",
       "      <td>0.666667</td>\n",
       "      <td>0.249634</td>\n",
       "      <td>0.432111</td>\n",
       "      <td>0.594284</td>\n",
       "      <td>0.401479</td>\n",
       "      <td>1.000000</td>\n",
       "      <td>0.530789</td>\n",
       "      <td>0.605351</td>\n",
       "      <td>0.488265</td>\n",
       "      <td>0.764572</td>\n",
       "    </tr>\n",
       "    <tr>\n",
       "      <th>4</th>\n",
       "      <td>0.385542</td>\n",
       "      <td>0.200000</td>\n",
       "      <td>0.169576</td>\n",
       "      <td>0.272841</td>\n",
       "      <td>0.814815</td>\n",
       "      <td>0.124573</td>\n",
       "      <td>0.432111</td>\n",
       "      <td>0.594284</td>\n",
       "      <td>0.401479</td>\n",
       "      <td>1.000000</td>\n",
       "      <td>0.530789</td>\n",
       "      <td>0.440055</td>\n",
       "      <td>0.262193</td>\n",
       "      <td>0.485379</td>\n",
       "    </tr>\n",
       "  </tbody>\n",
       "</table>\n",
       "</div>"
      ],
      "text/plain": [
       "   Screen Size       RAM    Weight     Price  CPU_Speed  Storage_Capacity  \\\n",
       "0     0.385542  0.200000  0.169576  0.194307   0.518519          0.062042   \n",
       "1     0.385542  0.200000  0.162095  0.119693   0.333333          0.062042   \n",
       "2     0.662651  0.200000  0.291771  0.064854   0.592593          0.124573   \n",
       "3     0.638554  0.466667  0.284289  0.397073   0.666667          0.249634   \n",
       "4     0.385542  0.200000  0.169576  0.272841   0.814815          0.124573   \n",
       "\n",
       "   Model Name_Encoded  Category_Encoded  Manufacturer_Encoded  \\\n",
       "0            0.432111          0.594284              0.401479   \n",
       "1            0.199404          0.594284              0.401479   \n",
       "2            0.063304          0.126401              0.222882   \n",
       "3            0.432111          0.594284              0.401479   \n",
       "4            0.432111          0.594284              0.401479   \n",
       "\n",
       "   Operating System_Encoded  Storage_Type_Encoded  GPU_Encoded  \\\n",
       "0                  1.000000              0.530789     0.412458   \n",
       "1                  1.000000              0.000000     0.202941   \n",
       "2                  0.194705              0.530789     0.235419   \n",
       "3                  1.000000              0.530789     0.605351   \n",
       "4                  1.000000              0.530789     0.440055   \n",
       "\n",
       "   CPU_Model_Encoded  Screen_Encoded  \n",
       "0           0.262193        0.485379  \n",
       "1           0.262193        0.265392  \n",
       "2           0.151886        0.294853  \n",
       "3           0.488265        0.764572  \n",
       "4           0.262193        0.485379  "
      ]
     },
     "execution_count": 23,
     "metadata": {},
     "output_type": "execute_result"
    }
   ],
   "source": [
    "df_train.head()"
   ]
  },
  {
   "cell_type": "code",
   "execution_count": 24,
   "id": "ccd59446",
   "metadata": {
    "execution": {
     "iopub.execute_input": "2024-10-17T13:44:07.431810Z",
     "iopub.status.busy": "2024-10-17T13:44:07.430520Z",
     "iopub.status.idle": "2024-10-17T13:44:07.450235Z",
     "shell.execute_reply": "2024-10-17T13:44:07.449090Z"
    },
    "papermill": {
     "duration": 0.035768,
     "end_time": "2024-10-17T13:44:07.452955",
     "exception": false,
     "start_time": "2024-10-17T13:44:07.417187",
     "status": "completed"
    },
    "tags": []
   },
   "outputs": [
    {
     "data": {
      "text/html": [
       "<div>\n",
       "<style scoped>\n",
       "    .dataframe tbody tr th:only-of-type {\n",
       "        vertical-align: middle;\n",
       "    }\n",
       "\n",
       "    .dataframe tbody tr th {\n",
       "        vertical-align: top;\n",
       "    }\n",
       "\n",
       "    .dataframe thead th {\n",
       "        text-align: right;\n",
       "    }\n",
       "</style>\n",
       "<table border=\"1\" class=\"dataframe\">\n",
       "  <thead>\n",
       "    <tr style=\"text-align: right;\">\n",
       "      <th></th>\n",
       "      <th>Screen Size</th>\n",
       "      <th>RAM</th>\n",
       "      <th>Weight</th>\n",
       "      <th>Price</th>\n",
       "      <th>CPU_Speed</th>\n",
       "      <th>Storage_Capacity</th>\n",
       "      <th>Model Name_Encoded</th>\n",
       "      <th>Category_Encoded</th>\n",
       "      <th>Manufacturer_Encoded</th>\n",
       "      <th>Operating System_Encoded</th>\n",
       "      <th>Storage_Type_Encoded</th>\n",
       "      <th>GPU_Encoded</th>\n",
       "      <th>CPU_Model_Encoded</th>\n",
       "      <th>Screen_Encoded</th>\n",
       "    </tr>\n",
       "  </thead>\n",
       "  <tbody>\n",
       "    <tr>\n",
       "      <th>0</th>\n",
       "      <td>0.662651</td>\n",
       "      <td>0.133333</td>\n",
       "      <td>0.336658</td>\n",
       "      <td>0.065531</td>\n",
       "      <td>0.666667</td>\n",
       "      <td>0.499756</td>\n",
       "      <td>0.222735</td>\n",
       "      <td>0.126401</td>\n",
       "      <td>0.222882</td>\n",
       "      <td>0.610221</td>\n",
       "      <td>0.099100</td>\n",
       "      <td>0.235419</td>\n",
       "      <td>0.247848</td>\n",
       "      <td>0.086034</td>\n",
       "    </tr>\n",
       "    <tr>\n",
       "      <th>1</th>\n",
       "      <td>0.867470</td>\n",
       "      <td>0.466667</td>\n",
       "      <td>0.573566</td>\n",
       "      <td>0.263598</td>\n",
       "      <td>0.703704</td>\n",
       "      <td>0.124573</td>\n",
       "      <td>0.222735</td>\n",
       "      <td>0.708517</td>\n",
       "      <td>0.236784</td>\n",
       "      <td>0.610221</td>\n",
       "      <td>0.753168</td>\n",
       "      <td>0.276431</td>\n",
       "      <td>0.335800</td>\n",
       "      <td>0.294853</td>\n",
       "    </tr>\n",
       "    <tr>\n",
       "      <th>2</th>\n",
       "      <td>0.662651</td>\n",
       "      <td>0.333333</td>\n",
       "      <td>0.374065</td>\n",
       "      <td>0.187419</td>\n",
       "      <td>0.666667</td>\n",
       "      <td>0.249634</td>\n",
       "      <td>0.222735</td>\n",
       "      <td>0.437902</td>\n",
       "      <td>0.285609</td>\n",
       "      <td>0.610221</td>\n",
       "      <td>0.530789</td>\n",
       "      <td>0.235419</td>\n",
       "      <td>0.247848</td>\n",
       "      <td>0.327945</td>\n",
       "    </tr>\n",
       "    <tr>\n",
       "      <th>3</th>\n",
       "      <td>0.385542</td>\n",
       "      <td>0.066667</td>\n",
       "      <td>0.127182</td>\n",
       "      <td>0.169813</td>\n",
       "      <td>0.518519</td>\n",
       "      <td>0.062042</td>\n",
       "      <td>0.222735</td>\n",
       "      <td>0.126401</td>\n",
       "      <td>0.280854</td>\n",
       "      <td>0.610221</td>\n",
       "      <td>0.530789</td>\n",
       "      <td>0.161342</td>\n",
       "      <td>0.172681</td>\n",
       "      <td>0.294853</td>\n",
       "    </tr>\n",
       "    <tr>\n",
       "      <th>4</th>\n",
       "      <td>0.662651</td>\n",
       "      <td>0.133333</td>\n",
       "      <td>0.376559</td>\n",
       "      <td>0.060453</td>\n",
       "      <td>1.000000</td>\n",
       "      <td>0.124573</td>\n",
       "      <td>0.135117</td>\n",
       "      <td>0.126401</td>\n",
       "      <td>0.240062</td>\n",
       "      <td>0.610221</td>\n",
       "      <td>0.530789</td>\n",
       "      <td>0.163171</td>\n",
       "      <td>0.113830</td>\n",
       "      <td>0.294853</td>\n",
       "    </tr>\n",
       "  </tbody>\n",
       "</table>\n",
       "</div>"
      ],
      "text/plain": [
       "   Screen Size       RAM    Weight     Price  CPU_Speed  Storage_Capacity  \\\n",
       "0     0.662651  0.133333  0.336658  0.065531   0.666667          0.499756   \n",
       "1     0.867470  0.466667  0.573566  0.263598   0.703704          0.124573   \n",
       "2     0.662651  0.333333  0.374065  0.187419   0.666667          0.249634   \n",
       "3     0.385542  0.066667  0.127182  0.169813   0.518519          0.062042   \n",
       "4     0.662651  0.133333  0.376559  0.060453   1.000000          0.124573   \n",
       "\n",
       "   Model Name_Encoded  Category_Encoded  Manufacturer_Encoded  \\\n",
       "0            0.222735          0.126401              0.222882   \n",
       "1            0.222735          0.708517              0.236784   \n",
       "2            0.222735          0.437902              0.285609   \n",
       "3            0.222735          0.126401              0.280854   \n",
       "4            0.135117          0.126401              0.240062   \n",
       "\n",
       "   Operating System_Encoded  Storage_Type_Encoded  GPU_Encoded  \\\n",
       "0                  0.610221              0.099100     0.235419   \n",
       "1                  0.610221              0.753168     0.276431   \n",
       "2                  0.610221              0.530789     0.235419   \n",
       "3                  0.610221              0.530789     0.161342   \n",
       "4                  0.610221              0.530789     0.163171   \n",
       "\n",
       "   CPU_Model_Encoded  Screen_Encoded  \n",
       "0           0.247848        0.086034  \n",
       "1           0.335800        0.294853  \n",
       "2           0.247848        0.327945  \n",
       "3           0.172681        0.294853  \n",
       "4           0.113830        0.294853  "
      ]
     },
     "execution_count": 24,
     "metadata": {},
     "output_type": "execute_result"
    }
   ],
   "source": [
    "df_test.head()"
   ]
  },
  {
   "cell_type": "code",
   "execution_count": 25,
   "id": "88467910",
   "metadata": {
    "execution": {
     "iopub.execute_input": "2024-10-17T13:44:07.477973Z",
     "iopub.status.busy": "2024-10-17T13:44:07.477568Z",
     "iopub.status.idle": "2024-10-17T13:44:07.482337Z",
     "shell.execute_reply": "2024-10-17T13:44:07.481246Z"
    },
    "papermill": {
     "duration": 0.019636,
     "end_time": "2024-10-17T13:44:07.484544",
     "exception": false,
     "start_time": "2024-10-17T13:44:07.464908",
     "status": "completed"
    },
    "tags": []
   },
   "outputs": [],
   "source": [
    "# df_train['Price']=y_train.values\n",
    "# df_train['Price']=df_train['Price'].astype(int)\n",
    "\n"
   ]
  },
  {
   "cell_type": "code",
   "execution_count": 26,
   "id": "1da20a59",
   "metadata": {
    "execution": {
     "iopub.execute_input": "2024-10-17T13:44:07.510908Z",
     "iopub.status.busy": "2024-10-17T13:44:07.510494Z",
     "iopub.status.idle": "2024-10-17T13:44:07.514945Z",
     "shell.execute_reply": "2024-10-17T13:44:07.513832Z"
    },
    "papermill": {
     "duration": 0.020758,
     "end_time": "2024-10-17T13:44:07.517219",
     "exception": false,
     "start_time": "2024-10-17T13:44:07.496461",
     "status": "completed"
    },
    "tags": []
   },
   "outputs": [],
   "source": [
    "# df_test['Price']=y_test.values\n",
    "# df_test['Price']=df_test['Price'].astype(int)\n"
   ]
  },
  {
   "cell_type": "markdown",
   "id": "34d38b84",
   "metadata": {
    "papermill": {
     "duration": 0.011161,
     "end_time": "2024-10-17T13:44:07.539835",
     "exception": false,
     "start_time": "2024-10-17T13:44:07.528674",
     "status": "completed"
    },
    "tags": []
   },
   "source": [
    "**Getting the preprocessed dataset**"
   ]
  },
  {
   "cell_type": "code",
   "execution_count": 27,
   "id": "90443d87",
   "metadata": {
    "execution": {
     "iopub.execute_input": "2024-10-17T13:44:07.564895Z",
     "iopub.status.busy": "2024-10-17T13:44:07.564476Z",
     "iopub.status.idle": "2024-10-17T13:44:07.607544Z",
     "shell.execute_reply": "2024-10-17T13:44:07.606145Z"
    },
    "papermill": {
     "duration": 0.05884,
     "end_time": "2024-10-17T13:44:07.610337",
     "exception": false,
     "start_time": "2024-10-17T13:44:07.551497",
     "status": "completed"
    },
    "tags": []
   },
   "outputs": [],
   "source": [
    "\n",
    "train_csv_path = 'processed_train_data.csv'\n",
    "test_csv_path = 'processed_test_data.csv'\n",
    "\n",
    "# Save the DataFrames to CSV files\n",
    "# index=False to not include the row indices\n",
    "df_train.to_csv(train_csv_path, index=False)  \n",
    "df_test.to_csv(test_csv_path, index=False)    \n"
   ]
  },
  {
   "cell_type": "code",
   "execution_count": 28,
   "id": "242df11c",
   "metadata": {
    "execution": {
     "iopub.execute_input": "2024-10-17T13:44:07.636692Z",
     "iopub.status.busy": "2024-10-17T13:44:07.636252Z",
     "iopub.status.idle": "2024-10-17T13:44:07.653817Z",
     "shell.execute_reply": "2024-10-17T13:44:07.652513Z"
    },
    "papermill": {
     "duration": 0.034053,
     "end_time": "2024-10-17T13:44:07.656440",
     "exception": false,
     "start_time": "2024-10-17T13:44:07.622387",
     "status": "completed"
    },
    "tags": []
   },
   "outputs": [],
   "source": [
    "df_train_processed = pd.read_csv('/kaggle/working/processed_train_data.csv')\n",
    "df_test_processed = pd.read_csv('/kaggle/working/processed_test_data.csv')"
   ]
  },
  {
   "cell_type": "code",
   "execution_count": 29,
   "id": "2eb84f72",
   "metadata": {
    "execution": {
     "iopub.execute_input": "2024-10-17T13:44:07.682223Z",
     "iopub.status.busy": "2024-10-17T13:44:07.681836Z",
     "iopub.status.idle": "2024-10-17T13:44:07.689450Z",
     "shell.execute_reply": "2024-10-17T13:44:07.688133Z"
    },
    "papermill": {
     "duration": 0.023433,
     "end_time": "2024-10-17T13:44:07.691833",
     "exception": false,
     "start_time": "2024-10-17T13:44:07.668400",
     "status": "completed"
    },
    "tags": []
   },
   "outputs": [],
   "source": [
    "# Separate features and target\n",
    "y_train = df_train_processed['Price']\n",
    "X_train = df_train_processed.drop(columns=['Price'])\n",
    "y_test = df_test_processed['Price']\n",
    "X_test = df_test_processed.drop(columns=['Price'])\n"
   ]
  },
  {
   "cell_type": "code",
   "execution_count": 30,
   "id": "c0d4dfdd",
   "metadata": {
    "execution": {
     "iopub.execute_input": "2024-10-17T13:44:07.716913Z",
     "iopub.status.busy": "2024-10-17T13:44:07.716533Z",
     "iopub.status.idle": "2024-10-17T13:44:08.397027Z",
     "shell.execute_reply": "2024-10-17T13:44:08.395891Z"
    },
    "papermill": {
     "duration": 0.695632,
     "end_time": "2024-10-17T13:44:08.399288",
     "exception": false,
     "start_time": "2024-10-17T13:44:07.703656",
     "status": "completed"
    },
    "tags": []
   },
   "outputs": [
    {
     "name": "stdout",
     "output_type": "stream",
     "text": [
      "Mean Squared Error: 0.00596\n"
     ]
    }
   ],
   "source": [
    "from sklearn.ensemble import GradientBoostingRegressor\n",
    "\n",
    "model_gbr = GradientBoostingRegressor(random_state=42)\n",
    "model_gbr.fit(X_train, y_train)\n",
    "\n",
    "y_pred = model_gbr.predict(X_test)\n",
    "\n",
    "results = pd.DataFrame({\n",
    "    'True Price': y_test,\n",
    "    'Predicted Price': y_pred\n",
    "})\n",
    "\n",
    "from sklearn.metrics import mean_squared_error \n",
    "\n",
    "\n",
    "mse = mean_squared_error(y_test, y_pred)\n",
    "print(f'Mean Squared Error: {mse:.5f}')\n"
   ]
  },
  {
   "cell_type": "code",
   "execution_count": 31,
   "id": "108779d1",
   "metadata": {
    "execution": {
     "iopub.execute_input": "2024-10-17T13:44:08.425061Z",
     "iopub.status.busy": "2024-10-17T13:44:08.424258Z",
     "iopub.status.idle": "2024-10-17T13:44:08.766057Z",
     "shell.execute_reply": "2024-10-17T13:44:08.764808Z"
    },
    "papermill": {
     "duration": 0.357439,
     "end_time": "2024-10-17T13:44:08.768581",
     "exception": false,
     "start_time": "2024-10-17T13:44:08.411142",
     "status": "completed"
    },
    "tags": []
   },
   "outputs": [
    {
     "name": "stdout",
     "output_type": "stream",
     "text": [
      "Mean Squared Error: 0.00624\n"
     ]
    }
   ],
   "source": [
    "\n",
    "import xgboost as xgb\n",
    "\n",
    "from sklearn.metrics import mean_squared_error\n",
    "import pandas as pd\n",
    "\n",
    "# Initialize the XGBRegressor model\n",
    "model_xgb = xgb.XGBRegressor(random_state=42)\n",
    "\n",
    "# Fit the model to the training data\n",
    "model_xgb.fit(X_train, y_train)\n",
    "\n",
    "# Make predictions on the test data\n",
    "y_pred = model_xgb.predict(X_test)\n",
    "\n",
    "# Create a DataFrame to compare true and predicted prices\n",
    "results = pd.DataFrame({\n",
    "    'True Price': y_test,\n",
    "    'Predicted Price': y_pred\n",
    "})\n",
    "\n",
    "# Calculate the Mean Squared Error (MSE)\n",
    "mse = mean_squared_error(y_test, y_pred)\n",
    "print(f'Mean Squared Error: {mse:.5f}')\n",
    "\n"
   ]
  },
  {
   "cell_type": "code",
   "execution_count": 32,
   "id": "184494bf",
   "metadata": {
    "execution": {
     "iopub.execute_input": "2024-10-17T13:44:08.794756Z",
     "iopub.status.busy": "2024-10-17T13:44:08.794280Z",
     "iopub.status.idle": "2024-10-17T13:44:08.800198Z",
     "shell.execute_reply": "2024-10-17T13:44:08.799073Z"
    },
    "papermill": {
     "duration": 0.021903,
     "end_time": "2024-10-17T13:44:08.802377",
     "exception": false,
     "start_time": "2024-10-17T13:44:08.780474",
     "status": "completed"
    },
    "tags": []
   },
   "outputs": [],
   "source": [
    "# # Separate features and target\n",
    "# y_train = df_train['Price']\n",
    "# X_train = df_train.drop(columns=['Price'])\n",
    "# y_test = df_test['Price']\n",
    "# X_test = df_test.drop(columns=['Price'])\n",
    "\n",
    "# from catboost import CatBoostRegressor\n",
    "# from sklearn.metrics import mean_squared_error\n",
    "# import pandas as pd\n",
    "\n",
    "# # Initialize the CatBoostRegressor model\n",
    "# model_cat = CatBoostRegressor(iterations=1000, \n",
    "#                               depth=6, \n",
    "#                               learning_rate=0.1, \n",
    "#                               loss_function='RMSE',\n",
    "#                               random_state=42,\n",
    "#                               verbose=100)  # Set verbose to 100 to see training progress\n",
    "\n",
    "# # Fit the model to the training data\n",
    "# model_cat.fit(X_train, y_train, cat_features=categorical_train)  # Specify categorical features\n",
    "\n",
    "# # Make predictions on the test data\n",
    "# y_pred = model_cat.predict(X_test)\n",
    "\n",
    "# # Create a DataFrame to compare true and predicted prices\n",
    "# results = pd.DataFrame({\n",
    "#     'True Price': y_test,\n",
    "#     'Predicted Price': y_pred\n",
    "# })\n",
    "\n",
    "# # Calculate the Mean Squared Error (MSE)\n",
    "# mse = mean_squared_error(y_test, y_pred)\n",
    "# print(f'Mean Squared Error: {mse:.5f}')\n"
   ]
  },
  {
   "cell_type": "code",
   "execution_count": 33,
   "id": "7b4f7490",
   "metadata": {
    "execution": {
     "iopub.execute_input": "2024-10-17T13:44:08.827849Z",
     "iopub.status.busy": "2024-10-17T13:44:08.827454Z",
     "iopub.status.idle": "2024-10-17T13:44:08.831963Z",
     "shell.execute_reply": "2024-10-17T13:44:08.830850Z"
    },
    "papermill": {
     "duration": 0.019724,
     "end_time": "2024-10-17T13:44:08.834064",
     "exception": false,
     "start_time": "2024-10-17T13:44:08.814340",
     "status": "completed"
    },
    "tags": []
   },
   "outputs": [],
   "source": [
    "# from src.utils.load_logging import get_logger\n",
    "# from src.utils.model import save_model"
   ]
  },
  {
   "cell_type": "code",
   "execution_count": 34,
   "id": "44aaccc6",
   "metadata": {
    "execution": {
     "iopub.execute_input": "2024-10-17T13:44:08.918176Z",
     "iopub.status.busy": "2024-10-17T13:44:08.917774Z",
     "iopub.status.idle": "2024-10-17T13:44:09.055828Z",
     "shell.execute_reply": "2024-10-17T13:44:09.054923Z"
    },
    "papermill": {
     "duration": 0.153602,
     "end_time": "2024-10-17T13:44:09.058100",
     "exception": false,
     "start_time": "2024-10-17T13:44:08.904498",
     "status": "completed"
    },
    "tags": []
   },
   "outputs": [
    {
     "name": "stderr",
     "output_type": "stream",
     "text": [
      "2024-10-17 13:44:08,926 - __main__ - INFO - Loading train and test data\n",
      "2024-10-17 13:44:08,927 - __main__ - INFO - Feature columns: ['Screen Size', 'RAM', 'Weight', 'Price', 'CPU_Speed', 'Storage_Capacity', 'Model Name_Encoded', 'Category_Encoded', 'Manufacturer_Encoded', 'Operating System_Encoded', 'Storage_Type_Encoded', 'GPU_Encoded', 'CPU_Model_Encoded']\n",
      "2024-10-17 13:44:08,929 - __main__ - INFO - Splitting features and target variable\n",
      "2024-10-17 13:44:08,932 - __main__ - INFO - Scaling features\n",
      "2024-10-17 13:44:08,935 - __main__ - INFO - Training the model\n",
      "2024-10-17 13:44:09,034 - __main__ - INFO - Making predictions on test data\n",
      "2024-10-17 13:44:09,038 - __main__ - INFO - Evaluating the model\n",
      "2024-10-17 13:44:09,041 - __main__ - INFO - Mean Squared Error: 0.02\n",
      "2024-10-17 13:44:09,042 - __main__ - INFO - R-Squared: 0.35\n",
      "2024-10-17 13:44:09,043 - __main__ - INFO - Saving the model, scaler, and columns\n",
      "2024-10-17 13:44:09,051 - __main__ - INFO - XGBRegressor, MinMaxScaler, and Columns stored successfully!\n"
     ]
    }
   ],
   "source": [
    "import logging\n",
    "from xgboost import XGBRegressor\n",
    "import pickle\n",
    "\n",
    "# Define logger\n",
    "def get_logger(name):\n",
    "    logger = logging.getLogger(name)\n",
    "    logger.setLevel(logging.INFO)\n",
    "    if not logger.handlers:\n",
    "        handler = logging.StreamHandler()\n",
    "        formatter = logging.Formatter('%(asctime)s - %(name)s - %(levelname)s - %(message)s')\n",
    "        handler.setFormatter(formatter)\n",
    "        logger.addHandler(handler)\n",
    "    return logger\n",
    "\n",
    "logger = get_logger(__name__)\n",
    "\n",
    "# Load the processed data\n",
    "logger.info(\"Loading train and test data\")\n",
    "\n",
    "\n",
    "# Get columns\n",
    "columns = df_train_processed.columns.values.tolist()\n",
    "columns.pop()  # Assuming the last column is the target variable\n",
    "logger.info(f\"Feature columns: {columns}\")\n",
    "\n",
    "# Split X and Y for both train and test sets\n",
    "logger.info(\"Splitting features and target variable\")\n",
    "\n",
    "x_train = df_train_processed.iloc[:, :-1].values\n",
    "y_train = df_train_processed.iloc[:, -1].values\n",
    "\n",
    "x_test = df_test_processed.iloc[:, :-1].values\n",
    "y_test = df_test_processed.iloc[:, -1].values\n",
    "\n",
    "# Scaling\n",
    "logger.info(\"Scaling features\")\n",
    "scaler = MinMaxScaler()\n",
    "\n",
    "x_train = scaler.fit_transform(x_train)\n",
    "x_test = scaler.transform(x_test)\n",
    "\n",
    "# Train the model\n",
    "logger.info(\"Training the model\")\n",
    "XGB = XGBRegressor(random_state=42)\n",
    "XGB.fit(x_train, y_train)\n",
    "\n",
    "# Predict on test data\n",
    "logger.info(\"Making predictions on test data\")\n",
    "y_pred = XGB.predict(x_test)\n",
    "\n",
    "# Evaluate the model\n",
    "from sklearn.metrics import  r2_score\n",
    "\n",
    "logger.info(\"Evaluating the model\")\n",
    "mse = mean_squared_error(y_test, y_pred)\n",
    "r2 = r2_score(y_test, y_pred)\n",
    "\n",
    "logger.info(f\"Mean Squared Error: {mse:.2f}\")\n",
    "\n",
    "logger.info(f\"R-Squared: {r2:.2f}\")\n",
    "\n",
    "# Save Model, Scaler, and Columns\n",
    "logger.info(\"Saving the model, scaler, and columns\")\n",
    "\n",
    "def save_model(objects, filename='model.pkl'):\n",
    "    with open(filename, 'wb') as f:\n",
    "        pickle.dump(objects, f)\n",
    "\n",
    "save_model((XGB, scaler, columns))\n",
    "logger.info(\"XGBRegressor, MinMaxScaler, and Columns stored successfully!\")\n"
   ]
  },
  {
   "cell_type": "code",
   "execution_count": 35,
   "id": "8b5636bd",
   "metadata": {
    "execution": {
     "iopub.execute_input": "2024-10-17T13:44:09.085877Z",
     "iopub.status.busy": "2024-10-17T13:44:09.085440Z",
     "iopub.status.idle": "2024-10-17T13:44:09.091481Z",
     "shell.execute_reply": "2024-10-17T13:44:09.090247Z"
    },
    "papermill": {
     "duration": 0.023121,
     "end_time": "2024-10-17T13:44:09.094374",
     "exception": false,
     "start_time": "2024-10-17T13:44:09.071253",
     "status": "completed"
    },
    "tags": []
   },
   "outputs": [],
   "source": [
    "# import pickle\n",
    "\n",
    "# # Load the scikit-learn model\n",
    "# with open('xgboost_model.pkl', 'rb') as f:\n",
    "#     loaded_model = pickle.load(f)\n",
    "\n",
    "    \n",
    "# sample_input = pd.DataFrame({\n",
    "#     'Model Name': ['HP Envy 13-AB002nv'],\n",
    "#     'Category': ['Ultrabook'],\n",
    "#     'Screen': ['14.3\"'],\n",
    "#     'Resolution': ['IPS Panel Full HD 1920x1080'],\n",
    "#     'CPU': ['Intel Core i5 7500U 2GHz'],\n",
    "#     'RAM': ['8GB'],\n",
    "#     ' Storage': ['256GB SSD'],\n",
    "#     'GPU': ['Intel HD Graphics 630'],\n",
    "#     'Operating System': ['Windows 7'],\n",
    "#     'Weight': ['1.54kg'],\n",
    "# })\n",
    "# # Assuming X_test is your test dataset (in pandas DataFrame or NumPy array form)\n",
    "# predictions = loaded_model.predict(sample_input)\n",
    "\n",
    "# # If needed, convert predictions to a pandas DataFrame\n",
    "# predictions_df = pd.DataFrame(predictions, columns=['Predicted Price'])\n",
    "\n",
    "# print(predictions_df.head())\n"
   ]
  },
  {
   "cell_type": "code",
   "execution_count": 36,
   "id": "97bd82ba",
   "metadata": {
    "execution": {
     "iopub.execute_input": "2024-10-17T13:44:09.122535Z",
     "iopub.status.busy": "2024-10-17T13:44:09.122137Z",
     "iopub.status.idle": "2024-10-17T13:44:09.127431Z",
     "shell.execute_reply": "2024-10-17T13:44:09.126191Z"
    },
    "papermill": {
     "duration": 0.022642,
     "end_time": "2024-10-17T13:44:09.129905",
     "exception": false,
     "start_time": "2024-10-17T13:44:09.107263",
     "status": "completed"
    },
    "tags": []
   },
   "outputs": [],
   "source": [
    "# import h2o\n",
    "# from h2o.automl import H2OAutoML\n",
    "\n",
    "# # Start the H2O cluster (locally)\n",
    "# h2o.init()\n",
    "\n",
    "# # Import a sample binary outcome train/test set into H2O\n",
    "# train = h2o.import_file(\"/kaggle/working/processed_train_data.csv\")\n",
    "# test = h2o.import_file(\"/kaggle/working/processed_test_data.csv\")\n",
    "\n"
   ]
  },
  {
   "cell_type": "code",
   "execution_count": 37,
   "id": "b1b36393",
   "metadata": {
    "execution": {
     "iopub.execute_input": "2024-10-17T13:44:09.158691Z",
     "iopub.status.busy": "2024-10-17T13:44:09.158301Z",
     "iopub.status.idle": "2024-10-17T13:44:09.164027Z",
     "shell.execute_reply": "2024-10-17T13:44:09.162381Z"
    },
    "papermill": {
     "duration": 0.022741,
     "end_time": "2024-10-17T13:44:09.166554",
     "exception": false,
     "start_time": "2024-10-17T13:44:09.143813",
     "status": "completed"
    },
    "tags": []
   },
   "outputs": [],
   "source": [
    "# # Convert pandas DataFrames to H2O Frames\n",
    "# train = h2o.H2OFrame(train)\n",
    "# test = h2o.H2OFrame(test)\n",
    "\n",
    "\n",
    "\n",
    "# # Identify predictors and response\n",
    "# x = train.columns\n",
    "# y = \"Price\"\n",
    "\n",
    "# # Remove the response column from predictors\n",
    "# x.remove(y)\n",
    "\n",
    "# # # Convert 'Price' column to factor in H2O\n",
    "# # train[y] = train[y].asfactor()\n",
    "# # test[y] = test[y].asfactor()\n",
    "\n",
    "# # Run AutoML for 20 base models\n",
    "# aml = H2OAutoML(max_models=20, seed=1)\n",
    "# aml.train(x=x, y=y, training_frame=train, validation_frame=test)\n",
    "\n",
    "# # View the AutoML Leaderboard\n",
    "# lb = aml.leaderboard\n",
    "# lb.head(rows=lb.nrows)  # Print all rows instead of default (10 rows)"
   ]
  },
  {
   "cell_type": "code",
   "execution_count": 38,
   "id": "e1c42e8c",
   "metadata": {
    "execution": {
     "iopub.execute_input": "2024-10-17T13:44:09.195433Z",
     "iopub.status.busy": "2024-10-17T13:44:09.195053Z",
     "iopub.status.idle": "2024-10-17T13:44:09.201587Z",
     "shell.execute_reply": "2024-10-17T13:44:09.199537Z"
    },
    "papermill": {
     "duration": 0.024093,
     "end_time": "2024-10-17T13:44:09.204137",
     "exception": false,
     "start_time": "2024-10-17T13:44:09.180044",
     "status": "completed"
    },
    "tags": []
   },
   "outputs": [],
   "source": [
    "# # Get the best model using the metric\n",
    "# m = aml.leader\n",
    "# # this is equivalent to\n",
    "# m = aml.get_best_model()\n",
    "\n",
    "# m = aml.get_best_model(criterion=\"mse\")\n",
    "\n",
    "\n",
    "\n",
    "# # Get the best XGBoost model using default sort metric\n",
    "# xgb = aml.get_best_model(algorithm=\"xgboost\")\n",
    "\n",
    "# # Get the best XGBoost model, ranked by mse\n",
    "# xgb = aml.get_best_model(algorithm=\"xgboost\", criterion=\"mse\")\n",
    "\n"
   ]
  },
  {
   "cell_type": "code",
   "execution_count": null,
   "id": "b87ab0a2",
   "metadata": {
    "papermill": {
     "duration": 0.012932,
     "end_time": "2024-10-17T13:44:09.230141",
     "exception": false,
     "start_time": "2024-10-17T13:44:09.217209",
     "status": "completed"
    },
    "tags": []
   },
   "outputs": [],
   "source": []
  },
  {
   "cell_type": "code",
   "execution_count": 39,
   "id": "e0131c77",
   "metadata": {
    "execution": {
     "iopub.execute_input": "2024-10-17T13:44:09.258824Z",
     "iopub.status.busy": "2024-10-17T13:44:09.258023Z",
     "iopub.status.idle": "2024-10-17T13:44:09.262939Z",
     "shell.execute_reply": "2024-10-17T13:44:09.261747Z"
    },
    "papermill": {
     "duration": 0.021915,
     "end_time": "2024-10-17T13:44:09.265415",
     "exception": false,
     "start_time": "2024-10-17T13:44:09.243500",
     "status": "completed"
    },
    "tags": []
   },
   "outputs": [],
   "source": [
    "# # View the parameters for the XGBoost model selected above\n",
    "# xgb.params.keys()\n",
    "\n",
    "# # Inspect individual parameter values\n",
    "# xgb.params['ntrees']"
   ]
  },
  {
   "cell_type": "code",
   "execution_count": null,
   "id": "893433a6",
   "metadata": {
    "papermill": {
     "duration": 0.012793,
     "end_time": "2024-10-17T13:44:09.291763",
     "exception": false,
     "start_time": "2024-10-17T13:44:09.278970",
     "status": "completed"
    },
    "tags": []
   },
   "outputs": [],
   "source": []
  }
 ],
 "metadata": {
  "kaggle": {
   "accelerator": "none",
   "dataSources": [
    {
     "datasetId": 3057690,
     "sourceId": 5254982,
     "sourceType": "datasetVersion"
    }
   ],
   "dockerImageVersionId": 30746,
   "isGpuEnabled": false,
   "isInternetEnabled": true,
   "language": "python",
   "sourceType": "notebook"
  },
  "kernelspec": {
   "display_name": "Python 3",
   "language": "python",
   "name": "python3"
  },
  "language_info": {
   "codemirror_mode": {
    "name": "ipython",
    "version": 3
   },
   "file_extension": ".py",
   "mimetype": "text/x-python",
   "name": "python",
   "nbconvert_exporter": "python",
   "pygments_lexer": "ipython3",
   "version": "3.10.13"
  },
  "papermill": {
   "default_parameters": {},
   "duration": 9.664673,
   "end_time": "2024-10-17T13:44:09.928275",
   "environment_variables": {},
   "exception": null,
   "input_path": "__notebook__.ipynb",
   "output_path": "__notebook__.ipynb",
   "parameters": {},
   "start_time": "2024-10-17T13:44:00.263602",
   "version": "2.5.0"
  }
 },
 "nbformat": 4,
 "nbformat_minor": 5
}
